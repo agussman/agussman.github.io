{
 "cells": [
  {
   "cell_type": "code",
   "execution_count": 1,
   "metadata": {},
   "outputs": [],
   "source": [
    "import numpy as np\n",
    "import pandas as pd\n",
    "import tensorflow as tf\n",
    "\n",
    "from google.cloud import bigquery"
   ]
  },
  {
   "cell_type": "code",
   "execution_count": 2,
   "metadata": {},
   "outputs": [],
   "source": [
    "%%bigquery df\n",
    "SELECT * FROM `agussman-bigquery-demo.census_dataset.input_view`"
   ]
  },
  {
   "cell_type": "code",
   "execution_count": 3,
   "metadata": {},
   "outputs": [
    {
     "data": {
      "text/html": [
       "<div>\n",
       "<style scoped>\n",
       "    .dataframe tbody tr th:only-of-type {\n",
       "        vertical-align: middle;\n",
       "    }\n",
       "\n",
       "    .dataframe tbody tr th {\n",
       "        vertical-align: top;\n",
       "    }\n",
       "\n",
       "    .dataframe thead th {\n",
       "        text-align: right;\n",
       "    }\n",
       "</style>\n",
       "<table border=\"1\" class=\"dataframe\">\n",
       "  <thead>\n",
       "    <tr style=\"text-align: right;\">\n",
       "      <th></th>\n",
       "      <th>age</th>\n",
       "      <th>workclass</th>\n",
       "      <th>native_country</th>\n",
       "      <th>marital_status</th>\n",
       "      <th>education_num</th>\n",
       "      <th>occupation</th>\n",
       "      <th>race</th>\n",
       "      <th>hours_per_week</th>\n",
       "      <th>income_bracket</th>\n",
       "      <th>dataframe</th>\n",
       "    </tr>\n",
       "  </thead>\n",
       "  <tbody>\n",
       "    <tr>\n",
       "      <th>0</th>\n",
       "      <td>39</td>\n",
       "      <td>Private</td>\n",
       "      <td>United-States</td>\n",
       "      <td>Married-civ-spouse</td>\n",
       "      <td>5</td>\n",
       "      <td>Other-service</td>\n",
       "      <td>Black</td>\n",
       "      <td>34</td>\n",
       "      <td>&lt;=50K</td>\n",
       "      <td>training</td>\n",
       "    </tr>\n",
       "    <tr>\n",
       "      <th>1</th>\n",
       "      <td>72</td>\n",
       "      <td>Private</td>\n",
       "      <td>United-States</td>\n",
       "      <td>Married-civ-spouse</td>\n",
       "      <td>5</td>\n",
       "      <td>Exec-managerial</td>\n",
       "      <td>Asian-Pac-Islander</td>\n",
       "      <td>48</td>\n",
       "      <td>&gt;50K</td>\n",
       "      <td>training</td>\n",
       "    </tr>\n",
       "    <tr>\n",
       "      <th>2</th>\n",
       "      <td>45</td>\n",
       "      <td>Private</td>\n",
       "      <td>United-States</td>\n",
       "      <td>Married-civ-spouse</td>\n",
       "      <td>5</td>\n",
       "      <td>Machine-op-inspct</td>\n",
       "      <td>White</td>\n",
       "      <td>40</td>\n",
       "      <td>&gt;50K</td>\n",
       "      <td>training</td>\n",
       "    </tr>\n",
       "    <tr>\n",
       "      <th>3</th>\n",
       "      <td>31</td>\n",
       "      <td>Private</td>\n",
       "      <td>United-States</td>\n",
       "      <td>Married-civ-spouse</td>\n",
       "      <td>5</td>\n",
       "      <td>Exec-managerial</td>\n",
       "      <td>White</td>\n",
       "      <td>40</td>\n",
       "      <td>&lt;=50K</td>\n",
       "      <td>evaluation</td>\n",
       "    </tr>\n",
       "    <tr>\n",
       "      <th>4</th>\n",
       "      <td>55</td>\n",
       "      <td>Private</td>\n",
       "      <td>United-States</td>\n",
       "      <td>Married-civ-spouse</td>\n",
       "      <td>5</td>\n",
       "      <td>Tech-support</td>\n",
       "      <td>White</td>\n",
       "      <td>23</td>\n",
       "      <td>&lt;=50K</td>\n",
       "      <td>training</td>\n",
       "    </tr>\n",
       "  </tbody>\n",
       "</table>\n",
       "</div>"
      ],
      "text/plain": [
       "   age workclass  native_country       marital_status  education_num  \\\n",
       "0   39   Private   United-States   Married-civ-spouse              5   \n",
       "1   72   Private   United-States   Married-civ-spouse              5   \n",
       "2   45   Private   United-States   Married-civ-spouse              5   \n",
       "3   31   Private   United-States   Married-civ-spouse              5   \n",
       "4   55   Private   United-States   Married-civ-spouse              5   \n",
       "\n",
       "           occupation                 race  hours_per_week income_bracket  \\\n",
       "0       Other-service                Black              34          <=50K   \n",
       "1     Exec-managerial   Asian-Pac-Islander              48           >50K   \n",
       "2   Machine-op-inspct                White              40           >50K   \n",
       "3     Exec-managerial                White              40          <=50K   \n",
       "4        Tech-support                White              23          <=50K   \n",
       "\n",
       "    dataframe  \n",
       "0    training  \n",
       "1    training  \n",
       "2    training  \n",
       "3  evaluation  \n",
       "4    training  "
      ]
     },
     "execution_count": 3,
     "metadata": {},
     "output_type": "execute_result"
    }
   ],
   "source": [
    "df.head()"
   ]
  },
  {
   "cell_type": "code",
   "execution_count": 4,
   "metadata": {},
   "outputs": [
    {
     "data": {
      "text/plain": [
       "' <=50K'"
      ]
     },
     "execution_count": 4,
     "metadata": {},
     "output_type": "execute_result"
    }
   ],
   "source": [
    "df.iloc[0].income_bracket"
   ]
  },
  {
   "cell_type": "code",
   "execution_count": 5,
   "metadata": {},
   "outputs": [],
   "source": [
    "df.loc[df.income_bracket == \" <=50K\", 'label'] = 1\n",
    "df.loc[df.income_bracket != \" <=50K\", 'label'] = 0"
   ]
  },
  {
   "cell_type": "code",
   "execution_count": 6,
   "metadata": {},
   "outputs": [
    {
     "data": {
      "text/html": [
       "<div>\n",
       "<style scoped>\n",
       "    .dataframe tbody tr th:only-of-type {\n",
       "        vertical-align: middle;\n",
       "    }\n",
       "\n",
       "    .dataframe tbody tr th {\n",
       "        vertical-align: top;\n",
       "    }\n",
       "\n",
       "    .dataframe thead th {\n",
       "        text-align: right;\n",
       "    }\n",
       "</style>\n",
       "<table border=\"1\" class=\"dataframe\">\n",
       "  <thead>\n",
       "    <tr style=\"text-align: right;\">\n",
       "      <th></th>\n",
       "      <th>age</th>\n",
       "      <th>workclass</th>\n",
       "      <th>native_country</th>\n",
       "      <th>marital_status</th>\n",
       "      <th>education_num</th>\n",
       "      <th>occupation</th>\n",
       "      <th>race</th>\n",
       "      <th>hours_per_week</th>\n",
       "      <th>income_bracket</th>\n",
       "      <th>dataframe</th>\n",
       "      <th>label</th>\n",
       "    </tr>\n",
       "  </thead>\n",
       "  <tbody>\n",
       "    <tr>\n",
       "      <th>0</th>\n",
       "      <td>39</td>\n",
       "      <td>Private</td>\n",
       "      <td>United-States</td>\n",
       "      <td>Married-civ-spouse</td>\n",
       "      <td>5</td>\n",
       "      <td>Other-service</td>\n",
       "      <td>Black</td>\n",
       "      <td>34</td>\n",
       "      <td>&lt;=50K</td>\n",
       "      <td>training</td>\n",
       "      <td>1.0</td>\n",
       "    </tr>\n",
       "    <tr>\n",
       "      <th>1</th>\n",
       "      <td>72</td>\n",
       "      <td>Private</td>\n",
       "      <td>United-States</td>\n",
       "      <td>Married-civ-spouse</td>\n",
       "      <td>5</td>\n",
       "      <td>Exec-managerial</td>\n",
       "      <td>Asian-Pac-Islander</td>\n",
       "      <td>48</td>\n",
       "      <td>&gt;50K</td>\n",
       "      <td>training</td>\n",
       "      <td>0.0</td>\n",
       "    </tr>\n",
       "    <tr>\n",
       "      <th>2</th>\n",
       "      <td>45</td>\n",
       "      <td>Private</td>\n",
       "      <td>United-States</td>\n",
       "      <td>Married-civ-spouse</td>\n",
       "      <td>5</td>\n",
       "      <td>Machine-op-inspct</td>\n",
       "      <td>White</td>\n",
       "      <td>40</td>\n",
       "      <td>&gt;50K</td>\n",
       "      <td>training</td>\n",
       "      <td>0.0</td>\n",
       "    </tr>\n",
       "    <tr>\n",
       "      <th>3</th>\n",
       "      <td>31</td>\n",
       "      <td>Private</td>\n",
       "      <td>United-States</td>\n",
       "      <td>Married-civ-spouse</td>\n",
       "      <td>5</td>\n",
       "      <td>Exec-managerial</td>\n",
       "      <td>White</td>\n",
       "      <td>40</td>\n",
       "      <td>&lt;=50K</td>\n",
       "      <td>evaluation</td>\n",
       "      <td>1.0</td>\n",
       "    </tr>\n",
       "    <tr>\n",
       "      <th>4</th>\n",
       "      <td>55</td>\n",
       "      <td>Private</td>\n",
       "      <td>United-States</td>\n",
       "      <td>Married-civ-spouse</td>\n",
       "      <td>5</td>\n",
       "      <td>Tech-support</td>\n",
       "      <td>White</td>\n",
       "      <td>23</td>\n",
       "      <td>&lt;=50K</td>\n",
       "      <td>training</td>\n",
       "      <td>1.0</td>\n",
       "    </tr>\n",
       "  </tbody>\n",
       "</table>\n",
       "</div>"
      ],
      "text/plain": [
       "   age workclass  native_country       marital_status  education_num  \\\n",
       "0   39   Private   United-States   Married-civ-spouse              5   \n",
       "1   72   Private   United-States   Married-civ-spouse              5   \n",
       "2   45   Private   United-States   Married-civ-spouse              5   \n",
       "3   31   Private   United-States   Married-civ-spouse              5   \n",
       "4   55   Private   United-States   Married-civ-spouse              5   \n",
       "\n",
       "           occupation                 race  hours_per_week income_bracket  \\\n",
       "0       Other-service                Black              34          <=50K   \n",
       "1     Exec-managerial   Asian-Pac-Islander              48           >50K   \n",
       "2   Machine-op-inspct                White              40           >50K   \n",
       "3     Exec-managerial                White              40          <=50K   \n",
       "4        Tech-support                White              23          <=50K   \n",
       "\n",
       "    dataframe  label  \n",
       "0    training    1.0  \n",
       "1    training    0.0  \n",
       "2    training    0.0  \n",
       "3  evaluation    1.0  \n",
       "4    training    1.0  "
      ]
     },
     "execution_count": 6,
     "metadata": {},
     "output_type": "execute_result"
    }
   ],
   "source": [
    "df.head()"
   ]
  },
  {
   "cell_type": "code",
   "execution_count": 7,
   "metadata": {},
   "outputs": [
    {
     "data": {
      "text/plain": [
       "age                 int64\n",
       "workclass          object\n",
       "native_country     object\n",
       "marital_status     object\n",
       "education_num       int64\n",
       "occupation         object\n",
       "race               object\n",
       "hours_per_week      int64\n",
       "income_bracket     object\n",
       "dataframe          object\n",
       "label             float64\n",
       "dtype: object"
      ]
     },
     "execution_count": 7,
     "metadata": {},
     "output_type": "execute_result"
    }
   ],
   "source": [
    "df.dtypes"
   ]
  },
  {
   "cell_type": "code",
   "execution_count": 8,
   "metadata": {},
   "outputs": [],
   "source": [
    "for col in ['workclass', 'native_country', 'marital_status', 'occupation', 'race']:\n",
    "    dest = f'{col}_cat'\n",
    "    df[dest] = pd.Categorical(df[col]).codes"
   ]
  },
  {
   "cell_type": "code",
   "execution_count": 9,
   "metadata": {},
   "outputs": [
    {
     "data": {
      "text/html": [
       "<div>\n",
       "<style scoped>\n",
       "    .dataframe tbody tr th:only-of-type {\n",
       "        vertical-align: middle;\n",
       "    }\n",
       "\n",
       "    .dataframe tbody tr th {\n",
       "        vertical-align: top;\n",
       "    }\n",
       "\n",
       "    .dataframe thead th {\n",
       "        text-align: right;\n",
       "    }\n",
       "</style>\n",
       "<table border=\"1\" class=\"dataframe\">\n",
       "  <thead>\n",
       "    <tr style=\"text-align: right;\">\n",
       "      <th></th>\n",
       "      <th>age</th>\n",
       "      <th>workclass</th>\n",
       "      <th>native_country</th>\n",
       "      <th>marital_status</th>\n",
       "      <th>education_num</th>\n",
       "      <th>occupation</th>\n",
       "      <th>race</th>\n",
       "      <th>hours_per_week</th>\n",
       "      <th>income_bracket</th>\n",
       "      <th>dataframe</th>\n",
       "      <th>label</th>\n",
       "      <th>workclass_cat</th>\n",
       "      <th>native_country_cat</th>\n",
       "      <th>marital_status_cat</th>\n",
       "      <th>occupation_cat</th>\n",
       "      <th>race_cat</th>\n",
       "    </tr>\n",
       "  </thead>\n",
       "  <tbody>\n",
       "    <tr>\n",
       "      <th>32556</th>\n",
       "      <td>20</td>\n",
       "      <td>Private</td>\n",
       "      <td>United-States</td>\n",
       "      <td>Never-married</td>\n",
       "      <td>10</td>\n",
       "      <td>Other-service</td>\n",
       "      <td>Asian-Pac-Islander</td>\n",
       "      <td>30</td>\n",
       "      <td>&lt;=50K</td>\n",
       "      <td>training</td>\n",
       "      <td>1.0</td>\n",
       "      <td>4</td>\n",
       "      <td>39</td>\n",
       "      <td>4</td>\n",
       "      <td>8</td>\n",
       "      <td>1</td>\n",
       "    </tr>\n",
       "    <tr>\n",
       "      <th>32557</th>\n",
       "      <td>48</td>\n",
       "      <td>Private</td>\n",
       "      <td>Cambodia</td>\n",
       "      <td>Married-civ-spouse</td>\n",
       "      <td>10</td>\n",
       "      <td>Craft-repair</td>\n",
       "      <td>Asian-Pac-Islander</td>\n",
       "      <td>40</td>\n",
       "      <td>&gt;50K</td>\n",
       "      <td>training</td>\n",
       "      <td>0.0</td>\n",
       "      <td>4</td>\n",
       "      <td>1</td>\n",
       "      <td>2</td>\n",
       "      <td>3</td>\n",
       "      <td>1</td>\n",
       "    </tr>\n",
       "    <tr>\n",
       "      <th>32558</th>\n",
       "      <td>22</td>\n",
       "      <td>Local-gov</td>\n",
       "      <td>United-States</td>\n",
       "      <td>Never-married</td>\n",
       "      <td>10</td>\n",
       "      <td>Protective-serv</td>\n",
       "      <td>White</td>\n",
       "      <td>43</td>\n",
       "      <td>&lt;=50K</td>\n",
       "      <td>training</td>\n",
       "      <td>1.0</td>\n",
       "      <td>2</td>\n",
       "      <td>39</td>\n",
       "      <td>4</td>\n",
       "      <td>11</td>\n",
       "      <td>4</td>\n",
       "    </tr>\n",
       "    <tr>\n",
       "      <th>32559</th>\n",
       "      <td>20</td>\n",
       "      <td>Private</td>\n",
       "      <td>United-States</td>\n",
       "      <td>Never-married</td>\n",
       "      <td>10</td>\n",
       "      <td>Adm-clerical</td>\n",
       "      <td>White</td>\n",
       "      <td>20</td>\n",
       "      <td>&lt;=50K</td>\n",
       "      <td>training</td>\n",
       "      <td>1.0</td>\n",
       "      <td>4</td>\n",
       "      <td>39</td>\n",
       "      <td>4</td>\n",
       "      <td>1</td>\n",
       "      <td>4</td>\n",
       "    </tr>\n",
       "    <tr>\n",
       "      <th>32560</th>\n",
       "      <td>43</td>\n",
       "      <td>State-gov</td>\n",
       "      <td>United-States</td>\n",
       "      <td>Divorced</td>\n",
       "      <td>10</td>\n",
       "      <td>Adm-clerical</td>\n",
       "      <td>White</td>\n",
       "      <td>40</td>\n",
       "      <td>&lt;=50K</td>\n",
       "      <td>training</td>\n",
       "      <td>1.0</td>\n",
       "      <td>7</td>\n",
       "      <td>39</td>\n",
       "      <td>0</td>\n",
       "      <td>1</td>\n",
       "      <td>4</td>\n",
       "    </tr>\n",
       "  </tbody>\n",
       "</table>\n",
       "</div>"
      ],
      "text/plain": [
       "       age   workclass  native_country       marital_status  education_num  \\\n",
       "32556   20     Private   United-States        Never-married             10   \n",
       "32557   48     Private        Cambodia   Married-civ-spouse             10   \n",
       "32558   22   Local-gov   United-States        Never-married             10   \n",
       "32559   20     Private   United-States        Never-married             10   \n",
       "32560   43   State-gov   United-States             Divorced             10   \n",
       "\n",
       "             occupation                 race  hours_per_week income_bracket  \\\n",
       "32556     Other-service   Asian-Pac-Islander              30          <=50K   \n",
       "32557      Craft-repair   Asian-Pac-Islander              40           >50K   \n",
       "32558   Protective-serv                White              43          <=50K   \n",
       "32559      Adm-clerical                White              20          <=50K   \n",
       "32560      Adm-clerical                White              40          <=50K   \n",
       "\n",
       "      dataframe  label  workclass_cat  native_country_cat  marital_status_cat  \\\n",
       "32556  training    1.0              4                  39                   4   \n",
       "32557  training    0.0              4                   1                   2   \n",
       "32558  training    1.0              2                  39                   4   \n",
       "32559  training    1.0              4                  39                   4   \n",
       "32560  training    1.0              7                  39                   0   \n",
       "\n",
       "       occupation_cat  race_cat  \n",
       "32556               8         1  \n",
       "32557               3         1  \n",
       "32558              11         4  \n",
       "32559               1         4  \n",
       "32560               1         4  "
      ]
     },
     "execution_count": 9,
     "metadata": {},
     "output_type": "execute_result"
    }
   ],
   "source": [
    "df.tail()"
   ]
  },
  {
   "cell_type": "code",
   "execution_count": 10,
   "metadata": {},
   "outputs": [],
   "source": [
    "# dump these\n",
    "for col in ['workclass', 'native_country', 'marital_status', 'occupation', 'race', 'education_num', 'income_bracket']:\n",
    "    df.pop(col)"
   ]
  },
  {
   "cell_type": "code",
   "execution_count": 11,
   "metadata": {},
   "outputs": [],
   "source": [
    "training_df = df.loc[df.dataframe == 'training']\n",
    "eval_df = df.loc[df.dataframe == 'evaluation']"
   ]
  },
  {
   "cell_type": "code",
   "execution_count": 12,
   "metadata": {},
   "outputs": [
    {
     "data": {
      "text/html": [
       "<div>\n",
       "<style scoped>\n",
       "    .dataframe tbody tr th:only-of-type {\n",
       "        vertical-align: middle;\n",
       "    }\n",
       "\n",
       "    .dataframe tbody tr th {\n",
       "        vertical-align: top;\n",
       "    }\n",
       "\n",
       "    .dataframe thead th {\n",
       "        text-align: right;\n",
       "    }\n",
       "</style>\n",
       "<table border=\"1\" class=\"dataframe\">\n",
       "  <thead>\n",
       "    <tr style=\"text-align: right;\">\n",
       "      <th></th>\n",
       "      <th>age</th>\n",
       "      <th>hours_per_week</th>\n",
       "      <th>dataframe</th>\n",
       "      <th>label</th>\n",
       "      <th>workclass_cat</th>\n",
       "      <th>native_country_cat</th>\n",
       "      <th>marital_status_cat</th>\n",
       "      <th>occupation_cat</th>\n",
       "      <th>race_cat</th>\n",
       "    </tr>\n",
       "  </thead>\n",
       "  <tbody>\n",
       "    <tr>\n",
       "      <th>0</th>\n",
       "      <td>39</td>\n",
       "      <td>34</td>\n",
       "      <td>training</td>\n",
       "      <td>1.0</td>\n",
       "      <td>4</td>\n",
       "      <td>39</td>\n",
       "      <td>2</td>\n",
       "      <td>8</td>\n",
       "      <td>2</td>\n",
       "    </tr>\n",
       "    <tr>\n",
       "      <th>1</th>\n",
       "      <td>72</td>\n",
       "      <td>48</td>\n",
       "      <td>training</td>\n",
       "      <td>0.0</td>\n",
       "      <td>4</td>\n",
       "      <td>39</td>\n",
       "      <td>2</td>\n",
       "      <td>4</td>\n",
       "      <td>1</td>\n",
       "    </tr>\n",
       "    <tr>\n",
       "      <th>2</th>\n",
       "      <td>45</td>\n",
       "      <td>40</td>\n",
       "      <td>training</td>\n",
       "      <td>0.0</td>\n",
       "      <td>4</td>\n",
       "      <td>39</td>\n",
       "      <td>2</td>\n",
       "      <td>7</td>\n",
       "      <td>4</td>\n",
       "    </tr>\n",
       "    <tr>\n",
       "      <th>4</th>\n",
       "      <td>55</td>\n",
       "      <td>23</td>\n",
       "      <td>training</td>\n",
       "      <td>1.0</td>\n",
       "      <td>4</td>\n",
       "      <td>39</td>\n",
       "      <td>2</td>\n",
       "      <td>13</td>\n",
       "      <td>4</td>\n",
       "    </tr>\n",
       "    <tr>\n",
       "      <th>5</th>\n",
       "      <td>30</td>\n",
       "      <td>40</td>\n",
       "      <td>training</td>\n",
       "      <td>1.0</td>\n",
       "      <td>4</td>\n",
       "      <td>32</td>\n",
       "      <td>2</td>\n",
       "      <td>7</td>\n",
       "      <td>4</td>\n",
       "    </tr>\n",
       "  </tbody>\n",
       "</table>\n",
       "</div>"
      ],
      "text/plain": [
       "   age  hours_per_week dataframe  label  workclass_cat  native_country_cat  \\\n",
       "0   39              34  training    1.0              4                  39   \n",
       "1   72              48  training    0.0              4                  39   \n",
       "2   45              40  training    0.0              4                  39   \n",
       "4   55              23  training    1.0              4                  39   \n",
       "5   30              40  training    1.0              4                  32   \n",
       "\n",
       "   marital_status_cat  occupation_cat  race_cat  \n",
       "0                   2               8         2  \n",
       "1                   2               4         1  \n",
       "2                   2               7         4  \n",
       "4                   2              13         4  \n",
       "5                   2               7         4  "
      ]
     },
     "execution_count": 12,
     "metadata": {},
     "output_type": "execute_result"
    }
   ],
   "source": [
    "training_df.head()"
   ]
  },
  {
   "cell_type": "code",
   "execution_count": 13,
   "metadata": {},
   "outputs": [
    {
     "data": {
      "text/plain": [
       "3        evaluation\n",
       "23       evaluation\n",
       "28       evaluation\n",
       "61       evaluation\n",
       "76       evaluation\n",
       "            ...    \n",
       "32470    evaluation\n",
       "32471    evaluation\n",
       "32488    evaluation\n",
       "32527    evaluation\n",
       "32555    evaluation\n",
       "Name: dataframe, Length: 3226, dtype: object"
      ]
     },
     "execution_count": 13,
     "metadata": {},
     "output_type": "execute_result"
    }
   ],
   "source": [
    "training_df.pop('dataframe')\n",
    "eval_df.pop('dataframe')"
   ]
  },
  {
   "cell_type": "code",
   "execution_count": 14,
   "metadata": {},
   "outputs": [],
   "source": [
    "t_target = training_df.pop('label')\n",
    "e_target = eval_df.pop('label')"
   ]
  },
  {
   "cell_type": "code",
   "execution_count": 15,
   "metadata": {},
   "outputs": [],
   "source": [
    "t_dataset = tf.data.Dataset.from_tensor_slices((training_df.values, t_target.values))\n",
    "e_dataset = tf.data.Dataset.from_tensor_slices((eval_df.values, e_target.values))"
   ]
  },
  {
   "cell_type": "code",
   "execution_count": 16,
   "metadata": {},
   "outputs": [
    {
     "data": {
      "text/plain": [
       "<TensorSliceDataset shapes: ((7,), ()), types: (tf.int64, tf.float64)>"
      ]
     },
     "execution_count": 16,
     "metadata": {},
     "output_type": "execute_result"
    }
   ],
   "source": [
    "t_dataset"
   ]
  },
  {
   "cell_type": "code",
   "execution_count": 17,
   "metadata": {},
   "outputs": [
    {
     "name": "stdout",
     "output_type": "stream",
     "text": [
      "Features: [31 40  4 39  2  4  4], Target: 1.0\n",
      "Features: [48 40  4 39  2  1  4], Target: 1.0\n",
      "Features: [40 32  4 39  2  8  2], Target: 1.0\n",
      "Features: [19 40  0 25  2  0  1], Target: 1.0\n",
      "Features: [29 14  4 30  2  6  1], Target: 1.0\n"
     ]
    }
   ],
   "source": [
    "for feat, targ in e_dataset.take(5):\n",
    "  print ('Features: {}, Target: {}'.format(feat, targ))"
   ]
  },
  {
   "cell_type": "code",
   "execution_count": 18,
   "metadata": {},
   "outputs": [],
   "source": [
    "train_dataset = t_dataset.shuffle(len(training_df)).batch(1)\n",
    "eval_dataset = e_dataset.shuffle(len(eval_df)).batch(1)"
   ]
  },
  {
   "cell_type": "code",
   "execution_count": 19,
   "metadata": {},
   "outputs": [],
   "source": [
    "# From https://www.tensorflow.org/tutorials/load_data/pandas_dataframe\n",
    "# Not using this one at the moment\n",
    "if False:\n",
    "    model = tf.keras.Sequential([\n",
    "        tf.keras.layers.Dense(10, activation='relu'),\n",
    "        tf.keras.layers.Dense(10, activation='relu'),\n",
    "        tf.keras.layers.Dense(1)\n",
    "      ])\n",
    "\n",
    "    model.compile(optimizer='adam',\n",
    "                    loss=tf.keras.losses.BinaryCrossentropy(from_logits=True),\n",
    "                    metrics=['accuracy'])"
   ]
  },
  {
   "cell_type": "code",
   "execution_count": 20,
   "metadata": {},
   "outputs": [],
   "source": [
    "# modded to remove feature_layer from https://www.tensorflow.org/io/tutorials/bigquery\n",
    "# Using this model\n",
    "Dense = tf.keras.layers.Dense\n",
    "model = tf.keras.Sequential(\n",
    "  [\n",
    "#     feature_layer,\n",
    "      Dense(100, activation=tf.nn.relu, kernel_initializer='uniform'),\n",
    "      Dense(75, activation=tf.nn.relu),\n",
    "      Dense(50, activation=tf.nn.relu),\n",
    "      Dense(25, activation=tf.nn.relu),\n",
    "      Dense(1, activation=tf.nn.sigmoid)\n",
    "  ])\n",
    "\n",
    "# Compile Keras model\n",
    "model.compile(\n",
    "    loss='binary_crossentropy', \n",
    "    metrics=['accuracy'])"
   ]
  },
  {
   "cell_type": "code",
   "execution_count": 21,
   "metadata": {},
   "outputs": [
    {
     "name": "stdout",
     "output_type": "stream",
     "text": [
      "Train for 26193 steps\n",
      "Epoch 1/15\n",
      "26193/26193 [==============================] - 82s 3ms/step - loss: 0.6450 - accuracy: 0.7570\n",
      "Epoch 2/15\n",
      "26193/26193 [==============================] - 83s 3ms/step - loss: 0.6959 - accuracy: 0.7575\n",
      "Epoch 3/15\n",
      "26193/26193 [==============================] - 82s 3ms/step - loss: 0.7146 - accuracy: 0.7553\n",
      "Epoch 4/15\n",
      "26193/26193 [==============================] - 84s 3ms/step - loss: 0.7306 - accuracy: 0.7536\n",
      "Epoch 5/15\n",
      "26193/26193 [==============================] - 81s 3ms/step - loss: 0.7107 - accuracy: 0.7538\n",
      "Epoch 6/15\n",
      "26193/26193 [==============================] - 81s 3ms/step - loss: 0.6906 - accuracy: 0.7536\n",
      "Epoch 7/15\n",
      "26193/26193 [==============================] - 81s 3ms/step - loss: 0.6699 - accuracy: 0.7559\n",
      "Epoch 8/15\n",
      "26193/26193 [==============================] - 83s 3ms/step - loss: 0.7089 - accuracy: 0.7553\n",
      "Epoch 9/15\n",
      "26193/26193 [==============================] - 81s 3ms/step - loss: 0.7280 - accuracy: 0.7544\n",
      "Epoch 10/15\n",
      "26193/26193 [==============================] - 82s 3ms/step - loss: 0.7123 - accuracy: 0.7536\n",
      "Epoch 11/15\n",
      "26193/26193 [==============================] - 81s 3ms/step - loss: 0.7513 - accuracy: 0.7527\n",
      "Epoch 12/15\n",
      "26193/26193 [==============================] - 81s 3ms/step - loss: 0.7330 - accuracy: 0.7539\n",
      "Epoch 13/15\n",
      "26193/26193 [==============================] - 81s 3ms/step - loss: 0.6773 - accuracy: 0.7561\n",
      "Epoch 14/15\n",
      "26193/26193 [==============================] - 81s 3ms/step - loss: 0.6897 - accuracy: 0.7552\n",
      "Epoch 15/15\n",
      "26193/26193 [==============================] - 84s 3ms/step - loss: 0.8081 - accuracy: 0.7546\n"
     ]
    },
    {
     "data": {
      "text/plain": [
       "<tensorflow.python.keras.callbacks.History at 0x7f1c5d43c890>"
      ]
     },
     "execution_count": 21,
     "metadata": {},
     "output_type": "execute_result"
    }
   ],
   "source": [
    "model.fit(train_dataset, epochs=15)"
   ]
  },
  {
   "cell_type": "code",
   "execution_count": 22,
   "metadata": {},
   "outputs": [
    {
     "name": "stdout",
     "output_type": "stream",
     "text": [
      "3226/3226 [==============================] - 6s 2ms/step - loss: 0.5007 - accuracy: 0.7719\n",
      "Accuracy 0.7718537\n"
     ]
    }
   ],
   "source": [
    "loss, accuracy = model.evaluate(eval_dataset)\n",
    "print(\"Accuracy\", accuracy)"
   ]
  },
  {
   "cell_type": "code",
   "execution_count": null,
   "metadata": {},
   "outputs": [],
   "source": []
  },
  {
   "cell_type": "code",
   "execution_count": null,
   "metadata": {},
   "outputs": [],
   "source": []
  }
 ],
 "metadata": {
  "environment": {
   "name": "tf2-gpu.2-1.m46",
   "type": "gcloud",
   "uri": "gcr.io/deeplearning-platform-release/tf2-gpu.2-1:m46"
  },
  "kernelspec": {
   "display_name": "Python 3",
   "language": "python",
   "name": "python3"
  },
  "language_info": {
   "codemirror_mode": {
    "name": "ipython",
    "version": 3
   },
   "file_extension": ".py",
   "mimetype": "text/x-python",
   "name": "python",
   "nbconvert_exporter": "python",
   "pygments_lexer": "ipython3",
   "version": "3.7.6"
  }
 },
 "nbformat": 4,
 "nbformat_minor": 4
}
